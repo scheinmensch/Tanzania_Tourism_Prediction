{
 "cells": [
  {
   "cell_type": "markdown",
   "id": "4024bf12-53c5-4f8e-8994-a5b0073cdb08",
   "metadata": {},
   "source": [
    "This is where the magic happens:\n",
    "\n",
    "# MODELLING\n",
    "\n",
    "In this notebook I'll work on a model to what a tourist will spend when vacationing in Tanzania.\n",
    "The evaluation metric for the model is **Mean Absolute Error**.\n",
    "\n",
    "\n",
    "To do:\n",
    "- remove total_male, night_mainland (multicollinearity)\n",
    "- redo function: either also remove those rows from target variable or separate target variable later or not remove rows at all\n",
    "- comments\n",
    "- baseline model\n",
    "- feature selection/feature engineering (subregions)\n",
    "- model\n",
    "- again if necessary: feature selection/feature engineering\n",
    "- outlier handling (Isolation Forest?)\n",
    "- hyperparameter tuning\n",
    "- interpretation/visualization"
   ]
  },
  {
   "cell_type": "code",
   "execution_count": 12,
   "id": "6e6b52b5-7a23-477c-af5a-c0a60112e974",
   "metadata": {},
   "outputs": [],
   "source": [
    "# import some packages that I'll need\n",
    "\n",
    "import pandas as pd\n",
    "import numpy as np\n",
    "import matplotlib.pyplot as plt\n",
    "import seaborn as sns\n",
    "from sklearn.pipeline import Pipeline\n",
    "from sklearn.model_selection import train_test_split\n",
    "from sklearn.compose import ColumnTransformer\n",
    "from sklearn.preprocessing import OneHotEncoder, RobustScaler\n",
    "\n",
    "# suppress warnings\n",
    "import warnings\n",
    "warnings.filterwarnings('ignore')\n",
    "\n",
    "# set color scheme\n",
    "cpal = [\"#f94144\",\"#f3722c\",\"#f8961e\",\"#f9844a\",\"#f9c74f\",\"#90be6d\",\"#43aa8b\",\"#4d908e\",\"#577590\",\"#277da1\"]\n",
    "\n",
    "# seaborn theme\n",
    "sns.set()\n",
    "\n",
    "# use natural numbers\n",
    "pd.options.display.float_format = \"{:.2f}\".format\n",
    "\n",
    "# set random seed\n",
    "RSEED = 42"
   ]
  },
  {
   "cell_type": "code",
   "execution_count": 2,
   "id": "7607d78f-5887-42b8-87ea-f75ffeb7473e",
   "metadata": {},
   "outputs": [],
   "source": [
    "# load data\n",
    "TZA = pd.read_csv('data/Train.csv')"
   ]
  },
  {
   "cell_type": "code",
   "execution_count": 3,
   "id": "962c0ffc-49c0-4327-9fc1-3e007bdc1525",
   "metadata": {},
   "outputs": [],
   "source": [
    "# separate target variable\n",
    "\n",
    "X = TZA.drop(['total_cost'], axis=1)\n",
    "y = TZA['total_cost']"
   ]
  },
  {
   "cell_type": "code",
   "execution_count": 4,
   "id": "4c20b6d6-24bc-47b0-b8d4-b1d7ad0a1ca9",
   "metadata": {},
   "outputs": [],
   "source": [
    "# train test split\n",
    "X_train, X_test, y_train, y_test = train_test_split(X,y, test_size = 0.3, random_state = RSEED)"
   ]
  },
  {
   "cell_type": "markdown",
   "id": "1ee23e65-64a9-4f27-9cd5-a9bf3c002d56",
   "metadata": {},
   "source": [
    "## Preprocessing\n",
    "\n",
    "I am going to preprocess the data now. I'll do it separately for train and test data, carefully avoiding data leakage.\n",
    "\n",
    "### Missing values and minor adjustments"
   ]
  },
  {
   "cell_type": "code",
   "execution_count": 5,
   "id": "73c6478a-3918-4b32-857b-83a4fc61c14c",
   "metadata": {},
   "outputs": [],
   "source": [
    "# function to handle missing data and to make some minor adjustments on the dataset\n",
    "\n",
    "def adjustments(df):\n",
    "    # fill NaN total_male/total_female with 0\n",
    "    df['total_male'] = df['total_male'].fillna(0)\n",
    "    df['total_female'] = df['total_female'].fillna(0)\n",
    "    # add a column group_size based on total_male/total_female\n",
    "    df['group_size'] = df['total_female'] + df['total_male']\n",
    "    # fill NaN travel_with with \"Alone\" if group_size is zero\n",
    "    df.loc[df.group_size == 1, 'travel_with'] = 'Alone'\n",
    "    # fill remaining NaN travel_with with missing\n",
    "    df['travel_with'] = df['travel_with'].fillna('missing')\n",
    "    # fill NaN most_impressing with \"No comments\"\n",
    "    df['most_impressing'] = df['most_impressing'].fillna('No comments')\n",
    "    # add a column total_nights based on night_zanzibar/night_mainland\n",
    "    df['total_nights'] = df['night_zanzibar'] + df['night_mainland']\n",
    "    # delete rows if group_size is zero\n",
    "    df = df[df.group_size > 0]\n",
    "    # delete rows if total_nights is zero\n",
    "    df = df[df.total_nights > 0]\n",
    "    # drop id column\n",
    "    df = df.drop(['ID'], axis =1)\n",
    "    return df"
   ]
  },
  {
   "cell_type": "code",
   "execution_count": 6,
   "id": "4daee7b0-2ab1-4178-9bfa-5304f338d6bb",
   "metadata": {
    "scrolled": true
   },
   "outputs": [],
   "source": [
    "# apply function on train data\n",
    "X_train = adjustments(X_train)\n",
    "# apply function on test data\n",
    "X_test = adjustments(X_test)"
   ]
  },
  {
   "cell_type": "markdown",
   "id": "f0062dea-f1dd-4fd5-9de6-f9708c8b59d3",
   "metadata": {},
   "source": [
    "### Build Pipelines"
   ]
  },
  {
   "cell_type": "code",
   "execution_count": 14,
   "id": "98500513-dc9d-4e66-8189-c6250bee8f3c",
   "metadata": {},
   "outputs": [],
   "source": [
    "cat_features = list(X_train.columns[X_train.dtypes==object])\n",
    "cat_pipeline = Pipeline([\n",
    "    ('1hot', OneHotEncoder(handle_unknown= 'ignore', drop = 'first'))\n",
    "])"
   ]
  },
  {
   "cell_type": "code",
   "execution_count": 15,
   "id": "bf948b9a-bedd-4f8b-8448-35c457319201",
   "metadata": {},
   "outputs": [],
   "source": [
    "num_features = list(X_train.columns[X_train.dtypes!=object])\n",
    "num_pipeline = Pipeline([\n",
    "    ('rob_scaler', RobustScaler())\n",
    "])"
   ]
  },
  {
   "cell_type": "code",
   "execution_count": 16,
   "id": "cba64739-0e4a-43d5-8351-f66de99d4e1b",
   "metadata": {},
   "outputs": [],
   "source": [
    "preprocessor = ColumnTransformer([\n",
    "    ('num', num_pipeline, num_features),\n",
    "    ('cat', cat_pipeline, cat_features)\n",
    "])"
   ]
  },
  {
   "cell_type": "code",
   "execution_count": null,
   "id": "9e501da8-5965-4557-8681-2b05031c752a",
   "metadata": {},
   "outputs": [],
   "source": []
  }
 ],
 "metadata": {
  "kernelspec": {
   "display_name": "Python 3 (ipykernel)",
   "language": "python",
   "name": "python3"
  },
  "language_info": {
   "codemirror_mode": {
    "name": "ipython",
    "version": 3
   },
   "file_extension": ".py",
   "mimetype": "text/x-python",
   "name": "python",
   "nbconvert_exporter": "python",
   "pygments_lexer": "ipython3",
   "version": "3.9.8"
  }
 },
 "nbformat": 4,
 "nbformat_minor": 5
}
