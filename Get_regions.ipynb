{
 "cells": [
  {
   "cell_type": "code",
   "execution_count": 1,
   "id": "36db1c4d-b138-4c16-aed7-76af8110d465",
   "metadata": {},
   "outputs": [],
   "source": [
    "import pandas as pd\n",
    "import numpy as np\n",
    "\n",
    "TZA = pd.read_csv('data/Train.csv')"
   ]
  },
  {
   "cell_type": "code",
   "execution_count": 2,
   "id": "11f434d3-0786-41a4-8c73-1409b104e312",
   "metadata": {},
   "outputs": [],
   "source": [
    "TZA['country'] = TZA['country'].str.lower()"
   ]
  },
  {
   "cell_type": "code",
   "execution_count": 3,
   "id": "91e977d0-c503-437f-996a-792c3475ce71",
   "metadata": {},
   "outputs": [],
   "source": [
    "TZA['country'] = TZA['country'].str.capitalize()"
   ]
  },
  {
   "cell_type": "code",
   "execution_count": 4,
   "id": "26279b4c-6c46-4085-bb5b-26f08c45dbbe",
   "metadata": {},
   "outputs": [],
   "source": [
    "TZA = TZA.replace({'country' : {'Swizerland' : 'Switzerland', 'Ukrain' : 'Ukraine','Malt' : 'Malta', 'Burgaria' : 'Bulgaria', 'Korea' : 'South Korea', 'Comoro' : 'Comoros'}})"
   ]
  },
  {
   "cell_type": "code",
   "execution_count": 5,
   "id": "79f7833b",
   "metadata": {},
   "outputs": [],
   "source": [
    "TZA = TZA.replace({'country' : {'Trinidad tobacco' : 'Trinidad and Tobago', 'Costarica' : 'Costa Rica', 'Philipines' : 'Philippines', 'Djibout' : 'Djibouti', 'Morroco' : 'Morocco'}})"
   ]
  },
  {
   "cell_type": "code",
   "execution_count": 6,
   "id": "c035c874-2042-4f3d-ad99-4fb728e5702e",
   "metadata": {},
   "outputs": [
    {
     "data": {
      "text/plain": [
       "array(['Switzerland', 'United kingdom', 'China', 'South africa',\n",
       "       'United states of america', 'Nigeria', 'India', 'Brazil', 'Canada',\n",
       "       'Malta', 'Mozambique', 'Rwanda', 'Austria', 'Myanmar', 'Germany',\n",
       "       'Kenya', 'Algeria', 'Ireland', 'Denmark', 'Spain', 'France',\n",
       "       'Italy', 'Egypt', 'Qatar', 'Malawi', 'Japan', 'Sweden',\n",
       "       'Netherlands', 'Uae', 'Uganda', 'Australia', 'Yemen',\n",
       "       'New zealand', 'Belgium', 'Norway', 'Zimbabwe', 'Zambia', 'Congo',\n",
       "       'Bulgaria', 'Pakistan', 'Greece', 'Mauritius', 'Drc', 'Oman',\n",
       "       'Portugal', 'South Korea', 'Swaziland', 'Tunisia', 'Kuwait',\n",
       "       'Dominica', 'Israel', 'Finland', 'Czech republic', 'Ukraine',\n",
       "       'Ethiopia', 'Burundi', 'Scotland', 'Russia', 'Ghana', 'Niger',\n",
       "       'Malaysia', 'Colombia', 'Luxembourg', 'Nepal', 'Poland',\n",
       "       'Singapore', 'Lithuania', 'Hungary', 'Indonesia', 'Turkey',\n",
       "       'Trinidad and Tobago', 'Iraq', 'Slovenia', 'United arab emirates',\n",
       "       'Comoros', 'Sri lanka', 'Iran', 'Montenegro', 'Angola', 'Lebanon',\n",
       "       'Slovakia', 'Romania', 'Mexico', 'Latvia', 'Croatia', 'Cape verde',\n",
       "       'Sudan', 'Costa Rica', 'Chile', 'Namibia', 'Taiwan', 'Serbia',\n",
       "       'Lesotho', 'Georgia', 'Philippines', 'Ivory coast', 'Madagascar',\n",
       "       'Djibouti', 'Cyprus', 'Argentina', 'Uruguay', 'Morocco',\n",
       "       'Thailand', 'Bermuda', 'Estonia'], dtype=object)"
      ]
     },
     "execution_count": 6,
     "metadata": {},
     "output_type": "execute_result"
    }
   ],
   "source": [
    "TZA['country'].unique()"
   ]
  },
  {
   "cell_type": "code",
   "execution_count": 7,
   "id": "bba3ba9d-4f40-432a-b66e-cb446f8667ef",
   "metadata": {},
   "outputs": [],
   "source": [
    "countries = TZA['country'].unique()"
   ]
  },
  {
   "cell_type": "code",
   "execution_count": 8,
   "id": "d407f1b2-f284-46c9-a6eb-ad740d98f221",
   "metadata": {},
   "outputs": [],
   "source": [
    "regions =[]\n",
    "for c in countries:\n",
    "    from Countrydetails import country\n",
    "    country = country.country_details(c)\n",
    "    region = country.region()\n",
    "    regions.append(region)"
   ]
  },
  {
   "cell_type": "code",
   "execution_count": 9,
   "id": "2b234746-dc08-4dd2-a8e1-03b81a70b48d",
   "metadata": {},
   "outputs": [
    {
     "data": {
      "text/plain": [
       "['Western Europe',\n",
       " 'British Isles',\n",
       " 'Eastern Asia',\n",
       " 'Southern Africa',\n",
       " 'North America',\n",
       " 'Western Africa',\n",
       " 'Southern and Central Asia',\n",
       " 'South America',\n",
       " 'North America',\n",
       " 'Southern Europe',\n",
       " 'Eastern Africa',\n",
       " 'Eastern Africa',\n",
       " 'Western Europe',\n",
       " ('Your given Country myanmar is not available. May be you are looking for these',\n",
       "  'Myanmar, Panama, Guyana'),\n",
       " 'Western Europe',\n",
       " 'Eastern Africa',\n",
       " 'Northern Africa',\n",
       " 'British Isles',\n",
       " 'Nordic Countries',\n",
       " 'Southern Europe',\n",
       " 'Western Europe',\n",
       " 'Southern Europe',\n",
       " 'Northern Africa',\n",
       " 'Middle East',\n",
       " 'Eastern Africa',\n",
       " 'Eastern Asia',\n",
       " 'Nordic Countries',\n",
       " 'Western Europe',\n",
       " 'Middle East',\n",
       " 'Eastern Africa',\n",
       " 'Australia and New Zealand',\n",
       " 'Middle East',\n",
       " 'Australia and New Zealand',\n",
       " 'Western Europe',\n",
       " 'Nordic Countries',\n",
       " 'Eastern Africa',\n",
       " 'Eastern Africa',\n",
       " ('Your given Country congo is not available. May be you are looking for these',\n",
       "  'Congo, Togo, Mongolia'),\n",
       " 'Eastern Europe',\n",
       " 'Southern and Central Asia',\n",
       " 'Southern Europe',\n",
       " 'Eastern Africa',\n",
       " 'There is no data for region of democratic republic of the congo',\n",
       " 'Middle East',\n",
       " 'Southern Europe',\n",
       " 'Eastern Asia',\n",
       " 'Southern Africa',\n",
       " 'Northern Africa',\n",
       " 'Middle East',\n",
       " 'Caribbean',\n",
       " 'Middle East',\n",
       " 'Nordic Countries',\n",
       " 'Eastern Europe',\n",
       " 'Eastern Europe',\n",
       " 'Eastern Africa',\n",
       " 'Eastern Africa',\n",
       " None,\n",
       " 'Eastern Europe',\n",
       " 'Western Africa',\n",
       " 'Western Africa',\n",
       " 'Southeast Asia',\n",
       " 'South America',\n",
       " 'Western Europe',\n",
       " 'Southern and Central Asia',\n",
       " 'Eastern Europe',\n",
       " 'Southeast Asia',\n",
       " 'Baltic Countries',\n",
       " 'Eastern Europe',\n",
       " 'Southeast Asia',\n",
       " 'Middle East',\n",
       " 'Caribbean',\n",
       " 'Middle East',\n",
       " 'Southern Europe',\n",
       " 'Middle East',\n",
       " 'Eastern Africa',\n",
       " 'Southeast Asia',\n",
       " 'Southern and Central Asia',\n",
       " ('Your given Country montenegro is not available. May be you are looking for these',\n",
       "  'Montenegro, Congo, United Kingdom'),\n",
       " 'Central Africa',\n",
       " 'Middle East',\n",
       " 'Eastern Europe',\n",
       " 'Eastern Europe',\n",
       " 'Central America',\n",
       " 'Baltic Countries',\n",
       " 'Southern Europe',\n",
       " 'Western Africa',\n",
       " 'Northern Africa',\n",
       " 'Central America',\n",
       " 'South America',\n",
       " 'Southern Africa',\n",
       " 'There is no data for region of taiwan',\n",
       " 'There is no data for region of serbia',\n",
       " 'Southern Africa',\n",
       " 'Middle East',\n",
       " 'Southeast Asia',\n",
       " 'There is no data for region of ivory coast',\n",
       " 'Eastern Africa',\n",
       " 'Eastern Africa',\n",
       " 'Middle East',\n",
       " 'South America',\n",
       " 'South America',\n",
       " 'Northern Africa',\n",
       " 'Southeast Asia',\n",
       " 'North America',\n",
       " 'Baltic Countries']"
      ]
     },
     "execution_count": 9,
     "metadata": {},
     "output_type": "execute_result"
    }
   ],
   "source": [
    "regions"
   ]
  },
  {
   "cell_type": "code",
   "execution_count": 15,
   "id": "34583154-45bd-4f6f-b56b-ae1bdab73fc9",
   "metadata": {},
   "outputs": [
    {
     "ename": "TypeError",
     "evalue": "cannot concatenate object of type '<class 'numpy.ndarray'>'; only Series and DataFrame objs are valid",
     "output_type": "error",
     "traceback": [
      "\u001b[0;31m---------------------------------------------------------------------------\u001b[0m",
      "\u001b[0;31mTypeError\u001b[0m                                 Traceback (most recent call last)",
      "Cell \u001b[0;32mIn[15], line 1\u001b[0m\n\u001b[0;32m----> 1\u001b[0m countries_regions \u001b[38;5;241m=\u001b[39m \u001b[43mpd\u001b[49m\u001b[38;5;241;43m.\u001b[39;49m\u001b[43mconcat\u001b[49m\u001b[43m(\u001b[49m\u001b[43m[\u001b[49m\u001b[43mcountries\u001b[49m\u001b[43m,\u001b[49m\u001b[43mregions\u001b[49m\u001b[43m]\u001b[49m\u001b[43m,\u001b[49m\u001b[43m \u001b[49m\u001b[43maxis\u001b[49m\u001b[38;5;241;43m=\u001b[39;49m\u001b[38;5;241;43m1\u001b[39;49m\u001b[43m,\u001b[49m\u001b[43m \u001b[49m\u001b[43mkeys\u001b[49m\u001b[38;5;241;43m=\u001b[39;49m\u001b[43m[\u001b[49m\u001b[38;5;124;43m'\u001b[39;49m\u001b[38;5;124;43mcountry\u001b[39;49m\u001b[38;5;124;43m'\u001b[39;49m\u001b[43m,\u001b[49m\u001b[43m \u001b[49m\u001b[38;5;124;43m'\u001b[39;49m\u001b[38;5;124;43mregion\u001b[39;49m\u001b[38;5;124;43m'\u001b[39;49m\u001b[43m]\u001b[49m\u001b[43m)\u001b[49m\n",
      "File \u001b[0;32m~/neuefische/Tanzania_Tourism_Prediction/.venv/lib/python3.9/site-packages/pandas/core/reshape/concat.py:372\u001b[0m, in \u001b[0;36mconcat\u001b[0;34m(objs, axis, join, ignore_index, keys, levels, names, verify_integrity, sort, copy)\u001b[0m\n\u001b[1;32m    369\u001b[0m \u001b[38;5;28;01melif\u001b[39;00m copy \u001b[38;5;129;01mand\u001b[39;00m using_copy_on_write():\n\u001b[1;32m    370\u001b[0m     copy \u001b[38;5;241m=\u001b[39m \u001b[38;5;28;01mFalse\u001b[39;00m\n\u001b[0;32m--> 372\u001b[0m op \u001b[38;5;241m=\u001b[39m \u001b[43m_Concatenator\u001b[49m\u001b[43m(\u001b[49m\n\u001b[1;32m    373\u001b[0m \u001b[43m    \u001b[49m\u001b[43mobjs\u001b[49m\u001b[43m,\u001b[49m\n\u001b[1;32m    374\u001b[0m \u001b[43m    \u001b[49m\u001b[43maxis\u001b[49m\u001b[38;5;241;43m=\u001b[39;49m\u001b[43maxis\u001b[49m\u001b[43m,\u001b[49m\n\u001b[1;32m    375\u001b[0m \u001b[43m    \u001b[49m\u001b[43mignore_index\u001b[49m\u001b[38;5;241;43m=\u001b[39;49m\u001b[43mignore_index\u001b[49m\u001b[43m,\u001b[49m\n\u001b[1;32m    376\u001b[0m \u001b[43m    \u001b[49m\u001b[43mjoin\u001b[49m\u001b[38;5;241;43m=\u001b[39;49m\u001b[43mjoin\u001b[49m\u001b[43m,\u001b[49m\n\u001b[1;32m    377\u001b[0m \u001b[43m    \u001b[49m\u001b[43mkeys\u001b[49m\u001b[38;5;241;43m=\u001b[39;49m\u001b[43mkeys\u001b[49m\u001b[43m,\u001b[49m\n\u001b[1;32m    378\u001b[0m \u001b[43m    \u001b[49m\u001b[43mlevels\u001b[49m\u001b[38;5;241;43m=\u001b[39;49m\u001b[43mlevels\u001b[49m\u001b[43m,\u001b[49m\n\u001b[1;32m    379\u001b[0m \u001b[43m    \u001b[49m\u001b[43mnames\u001b[49m\u001b[38;5;241;43m=\u001b[39;49m\u001b[43mnames\u001b[49m\u001b[43m,\u001b[49m\n\u001b[1;32m    380\u001b[0m \u001b[43m    \u001b[49m\u001b[43mverify_integrity\u001b[49m\u001b[38;5;241;43m=\u001b[39;49m\u001b[43mverify_integrity\u001b[49m\u001b[43m,\u001b[49m\n\u001b[1;32m    381\u001b[0m \u001b[43m    \u001b[49m\u001b[43mcopy\u001b[49m\u001b[38;5;241;43m=\u001b[39;49m\u001b[43mcopy\u001b[49m\u001b[43m,\u001b[49m\n\u001b[1;32m    382\u001b[0m \u001b[43m    \u001b[49m\u001b[43msort\u001b[49m\u001b[38;5;241;43m=\u001b[39;49m\u001b[43msort\u001b[49m\u001b[43m,\u001b[49m\n\u001b[1;32m    383\u001b[0m \u001b[43m\u001b[49m\u001b[43m)\u001b[49m\n\u001b[1;32m    385\u001b[0m \u001b[38;5;28;01mreturn\u001b[39;00m op\u001b[38;5;241m.\u001b[39mget_result()\n",
      "File \u001b[0;32m~/neuefische/Tanzania_Tourism_Prediction/.venv/lib/python3.9/site-packages/pandas/core/reshape/concat.py:462\u001b[0m, in \u001b[0;36m_Concatenator.__init__\u001b[0;34m(self, objs, axis, join, keys, levels, names, ignore_index, verify_integrity, copy, sort)\u001b[0m\n\u001b[1;32m    457\u001b[0m     \u001b[38;5;28;01mif\u001b[39;00m \u001b[38;5;129;01mnot\u001b[39;00m \u001b[38;5;28misinstance\u001b[39m(obj, (ABCSeries, ABCDataFrame)):\n\u001b[1;32m    458\u001b[0m         msg \u001b[38;5;241m=\u001b[39m (\n\u001b[1;32m    459\u001b[0m             \u001b[38;5;124mf\u001b[39m\u001b[38;5;124m\"\u001b[39m\u001b[38;5;124mcannot concatenate object of type \u001b[39m\u001b[38;5;124m'\u001b[39m\u001b[38;5;132;01m{\u001b[39;00m\u001b[38;5;28mtype\u001b[39m(obj)\u001b[38;5;132;01m}\u001b[39;00m\u001b[38;5;124m'\u001b[39m\u001b[38;5;124m; \u001b[39m\u001b[38;5;124m\"\u001b[39m\n\u001b[1;32m    460\u001b[0m             \u001b[38;5;124m\"\u001b[39m\u001b[38;5;124monly Series and DataFrame objs are valid\u001b[39m\u001b[38;5;124m\"\u001b[39m\n\u001b[1;32m    461\u001b[0m         )\n\u001b[0;32m--> 462\u001b[0m         \u001b[38;5;28;01mraise\u001b[39;00m \u001b[38;5;167;01mTypeError\u001b[39;00m(msg)\n\u001b[1;32m    464\u001b[0m     ndims\u001b[38;5;241m.\u001b[39madd(obj\u001b[38;5;241m.\u001b[39mndim)\n\u001b[1;32m    466\u001b[0m \u001b[38;5;66;03m# get the sample\u001b[39;00m\n\u001b[1;32m    467\u001b[0m \u001b[38;5;66;03m# want the highest ndim that we have, and must be non-empty\u001b[39;00m\n\u001b[1;32m    468\u001b[0m \u001b[38;5;66;03m# unless all objs are empty\u001b[39;00m\n",
      "\u001b[0;31mTypeError\u001b[0m: cannot concatenate object of type '<class 'numpy.ndarray'>'; only Series and DataFrame objs are valid"
     ]
    }
   ],
   "source": [
    "countries_regions = pd.concat([countries,regions], axis=1, keys=['country', 'region'])"
   ]
  }
 ],
 "metadata": {
  "kernelspec": {
   "display_name": "Python 3 (ipykernel)",
   "language": "python",
   "name": "python3"
  },
  "language_info": {
   "codemirror_mode": {
    "name": "ipython",
    "version": 3
   },
   "file_extension": ".py",
   "mimetype": "text/x-python",
   "name": "python",
   "nbconvert_exporter": "python",
   "pygments_lexer": "ipython3",
   "version": "3.9.8"
  }
 },
 "nbformat": 4,
 "nbformat_minor": 5
}
