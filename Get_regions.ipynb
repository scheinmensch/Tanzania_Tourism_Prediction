{
 "cells": [
  {
   "cell_type": "markdown",
   "id": "5a7f4397-fb11-4ec0-ad62-dfc8fc5576f2",
   "metadata": {},
   "source": [
    "In this notebook I'll create a csv sheet that I can use in the other notebooks to add a region column to my data frames. The region may be handy to group some countries.\n",
    "\n",
    "This notebook is a bit chaotic still, it was very much try and error. It was not that easy, because the country names in the original dataset were not all the same as in the dataset with the regions that I found online. I'll clean this up soon :)"
   ]
  },
  {
   "cell_type": "code",
   "execution_count": 1,
   "id": "d1f499a8-6290-49a5-ae34-b79a0e001435",
   "metadata": {},
   "outputs": [],
   "source": [
    "import pandas as pd\n",
    "import numpy as np\n",
    "\n",
    "TZA = pd.read_csv('data/Train.csv')"
   ]
  },
  {
   "cell_type": "code",
   "execution_count": 2,
   "id": "4db1d14a-b65d-417b-a322-4185839d1e67",
   "metadata": {},
   "outputs": [],
   "source": [
    "TZA['country'] = TZA['country'].str.lower()"
   ]
  },
  {
   "cell_type": "code",
   "execution_count": 3,
   "id": "3f21b14b-14c7-43cf-a3ce-7eb7b0cd9930",
   "metadata": {},
   "outputs": [],
   "source": [
    "continents = pd.read_csv('data/continents2.csv')\n",
    "continents['name'] = continents['name'].str.lower()"
   ]
  },
  {
   "cell_type": "code",
   "execution_count": 4,
   "id": "c314adb9-de1c-44b0-aa03-2887232ba3a5",
   "metadata": {},
   "outputs": [],
   "source": [
    "TZA['country'] = TZA['country'].str.capitalize()"
   ]
  },
  {
   "cell_type": "code",
   "execution_count": 5,
   "id": "33e49e88-9683-4e2d-b2fd-9522448d950d",
   "metadata": {},
   "outputs": [],
   "source": [
    "TZA = TZA.replace({'country' : {'United states of america': 'United States', 'Swaziland' : 'Eswatini', 'Cape verde' : 'Cabo Verde', 'Swizerland' : 'Switzerland', 'Ukrain' : 'Ukraine','Malt' : 'Malta', 'Burgaria' : 'Bulgaria', 'Korea' : 'South Korea', 'Comoro' : 'Comoros', 'Scotland' : 'United Kingdom', 'russia' : 'Russian Federation', 'sri lanka': 'SriLanka', }})\n",
    "TZA = TZA.replace({'country' : {'Ivory coast': \"Côte d'Ivoire\", 'Drc' : 'Congo', 'Uae' : 'United arab emirates', 'Trinidad tobacco' : 'Trinidad and Tobago', 'Costarica' : 'Costa Rica', 'Philipines' : 'Philippines', 'Djibout' : 'Djibouti', 'Morroco' : 'Morocco'}})"
   ]
  },
  {
   "cell_type": "code",
   "execution_count": 6,
   "id": "51392914-f2c7-4fbf-8842-67d442992e0a",
   "metadata": {
    "scrolled": true
   },
   "outputs": [
    {
     "data": {
      "text/html": [
       "<div>\n",
       "<style scoped>\n",
       "    .dataframe tbody tr th:only-of-type {\n",
       "        vertical-align: middle;\n",
       "    }\n",
       "\n",
       "    .dataframe tbody tr th {\n",
       "        vertical-align: top;\n",
       "    }\n",
       "\n",
       "    .dataframe thead th {\n",
       "        text-align: right;\n",
       "    }\n",
       "</style>\n",
       "<table border=\"1\" class=\"dataframe\">\n",
       "  <thead>\n",
       "    <tr style=\"text-align: right;\">\n",
       "      <th></th>\n",
       "      <th>country</th>\n",
       "    </tr>\n",
       "  </thead>\n",
       "  <tbody>\n",
       "    <tr>\n",
       "      <th>0</th>\n",
       "      <td>switzerland</td>\n",
       "    </tr>\n",
       "    <tr>\n",
       "      <th>1</th>\n",
       "      <td>united kingdom</td>\n",
       "    </tr>\n",
       "    <tr>\n",
       "      <th>2</th>\n",
       "      <td>china</td>\n",
       "    </tr>\n",
       "    <tr>\n",
       "      <th>3</th>\n",
       "      <td>south africa</td>\n",
       "    </tr>\n",
       "    <tr>\n",
       "      <th>4</th>\n",
       "      <td>united states</td>\n",
       "    </tr>\n",
       "    <tr>\n",
       "      <th>...</th>\n",
       "      <td>...</td>\n",
       "    </tr>\n",
       "    <tr>\n",
       "      <th>97</th>\n",
       "      <td>uruguay</td>\n",
       "    </tr>\n",
       "    <tr>\n",
       "      <th>98</th>\n",
       "      <td>morocco</td>\n",
       "    </tr>\n",
       "    <tr>\n",
       "      <th>99</th>\n",
       "      <td>thailand</td>\n",
       "    </tr>\n",
       "    <tr>\n",
       "      <th>100</th>\n",
       "      <td>bermuda</td>\n",
       "    </tr>\n",
       "    <tr>\n",
       "      <th>101</th>\n",
       "      <td>estonia</td>\n",
       "    </tr>\n",
       "  </tbody>\n",
       "</table>\n",
       "<p>102 rows × 1 columns</p>\n",
       "</div>"
      ],
      "text/plain": [
       "            country\n",
       "0       switzerland\n",
       "1    united kingdom\n",
       "2             china\n",
       "3      south africa\n",
       "4     united states\n",
       "..              ...\n",
       "97          uruguay\n",
       "98          morocco\n",
       "99         thailand\n",
       "100         bermuda\n",
       "101         estonia\n",
       "\n",
       "[102 rows x 1 columns]"
      ]
     },
     "execution_count": 6,
     "metadata": {},
     "output_type": "execute_result"
    }
   ],
   "source": [
    "TZA['country'] = TZA['country'].str.lower()\n",
    "countries = TZA['country'].unique()\n",
    "countries_df = pd.DataFrame(countries, columns = ['country'])\n",
    "countries_df"
   ]
  },
  {
   "cell_type": "code",
   "execution_count": 7,
   "id": "d1ae4483-6339-49e7-8ce3-41b3517f2e74",
   "metadata": {
    "scrolled": true
   },
   "outputs": [
    {
     "data": {
      "text/html": [
       "<div>\n",
       "<style scoped>\n",
       "    .dataframe tbody tr th:only-of-type {\n",
       "        vertical-align: middle;\n",
       "    }\n",
       "\n",
       "    .dataframe tbody tr th {\n",
       "        vertical-align: top;\n",
       "    }\n",
       "\n",
       "    .dataframe thead th {\n",
       "        text-align: right;\n",
       "    }\n",
       "</style>\n",
       "<table border=\"1\" class=\"dataframe\">\n",
       "  <thead>\n",
       "    <tr style=\"text-align: right;\">\n",
       "      <th></th>\n",
       "      <th>country</th>\n",
       "      <th>isin</th>\n",
       "    </tr>\n",
       "  </thead>\n",
       "  <tbody>\n",
       "    <tr>\n",
       "      <th>0</th>\n",
       "      <td>switzerland</td>\n",
       "      <td>True</td>\n",
       "    </tr>\n",
       "    <tr>\n",
       "      <th>1</th>\n",
       "      <td>united kingdom</td>\n",
       "      <td>True</td>\n",
       "    </tr>\n",
       "    <tr>\n",
       "      <th>2</th>\n",
       "      <td>china</td>\n",
       "      <td>True</td>\n",
       "    </tr>\n",
       "    <tr>\n",
       "      <th>3</th>\n",
       "      <td>south africa</td>\n",
       "      <td>True</td>\n",
       "    </tr>\n",
       "    <tr>\n",
       "      <th>4</th>\n",
       "      <td>united states</td>\n",
       "      <td>True</td>\n",
       "    </tr>\n",
       "    <tr>\n",
       "      <th>...</th>\n",
       "      <td>...</td>\n",
       "      <td>...</td>\n",
       "    </tr>\n",
       "    <tr>\n",
       "      <th>97</th>\n",
       "      <td>uruguay</td>\n",
       "      <td>True</td>\n",
       "    </tr>\n",
       "    <tr>\n",
       "      <th>98</th>\n",
       "      <td>morocco</td>\n",
       "      <td>True</td>\n",
       "    </tr>\n",
       "    <tr>\n",
       "      <th>99</th>\n",
       "      <td>thailand</td>\n",
       "      <td>True</td>\n",
       "    </tr>\n",
       "    <tr>\n",
       "      <th>100</th>\n",
       "      <td>bermuda</td>\n",
       "      <td>True</td>\n",
       "    </tr>\n",
       "    <tr>\n",
       "      <th>101</th>\n",
       "      <td>estonia</td>\n",
       "      <td>True</td>\n",
       "    </tr>\n",
       "  </tbody>\n",
       "</table>\n",
       "<p>102 rows × 2 columns</p>\n",
       "</div>"
      ],
      "text/plain": [
       "            country  isin\n",
       "0       switzerland  True\n",
       "1    united kingdom  True\n",
       "2             china  True\n",
       "3      south africa  True\n",
       "4     united states  True\n",
       "..              ...   ...\n",
       "97          uruguay  True\n",
       "98          morocco  True\n",
       "99         thailand  True\n",
       "100         bermuda  True\n",
       "101         estonia  True\n",
       "\n",
       "[102 rows x 2 columns]"
      ]
     },
     "execution_count": 7,
     "metadata": {},
     "output_type": "execute_result"
    }
   ],
   "source": [
    "isin = countries_df['country'].isin(continents['name'])\n",
    "countries_df = pd.concat([countries_df, isin], axis=1)\n",
    "countries_df.columns.values[1] = \"isin\"\n",
    "countries_df"
   ]
  },
  {
   "cell_type": "code",
   "execution_count": 8,
   "id": "4347149c-d872-448d-8210-6ad84098eb66",
   "metadata": {},
   "outputs": [],
   "source": [
    "false_countries = countries_df.loc[countries_df['isin'] == False]"
   ]
  },
  {
   "cell_type": "code",
   "execution_count": 9,
   "id": "fca97577-6f99-4262-b90f-3a64842831df",
   "metadata": {},
   "outputs": [
    {
     "data": {
      "text/html": [
       "<div>\n",
       "<style scoped>\n",
       "    .dataframe tbody tr th:only-of-type {\n",
       "        vertical-align: middle;\n",
       "    }\n",
       "\n",
       "    .dataframe tbody tr th {\n",
       "        vertical-align: top;\n",
       "    }\n",
       "\n",
       "    .dataframe thead th {\n",
       "        text-align: right;\n",
       "    }\n",
       "</style>\n",
       "<table border=\"1\" class=\"dataframe\">\n",
       "  <thead>\n",
       "    <tr style=\"text-align: right;\">\n",
       "      <th></th>\n",
       "      <th>country</th>\n",
       "      <th>isin</th>\n",
       "    </tr>\n",
       "  </thead>\n",
       "  <tbody>\n",
       "  </tbody>\n",
       "</table>\n",
       "</div>"
      ],
      "text/plain": [
       "Empty DataFrame\n",
       "Columns: [country, isin]\n",
       "Index: []"
      ]
     },
     "execution_count": 9,
     "metadata": {},
     "output_type": "execute_result"
    }
   ],
   "source": [
    "false_countries"
   ]
  },
  {
   "cell_type": "code",
   "execution_count": 10,
   "id": "4030c6e6-2cdd-4dce-902e-c9242d6efc4b",
   "metadata": {},
   "outputs": [],
   "source": [
    "continents_final = continents[['name', 'sub-region']]\n",
    "continents_final = continents_final.rename(columns={'name':'country'})"
   ]
  },
  {
   "cell_type": "code",
   "execution_count": 11,
   "id": "a6f59b44-54bb-45df-b9df-11f9d8d8bfad",
   "metadata": {},
   "outputs": [],
   "source": [
    "continents_final['country'] = continents_final['country'].str.capitalize()"
   ]
  },
  {
   "cell_type": "code",
   "execution_count": 12,
   "id": "be85fb60-ee78-4428-9a64-7b02e71d8363",
   "metadata": {},
   "outputs": [
    {
     "data": {
      "text/html": [
       "<div>\n",
       "<style scoped>\n",
       "    .dataframe tbody tr th:only-of-type {\n",
       "        vertical-align: middle;\n",
       "    }\n",
       "\n",
       "    .dataframe tbody tr th {\n",
       "        vertical-align: top;\n",
       "    }\n",
       "\n",
       "    .dataframe thead th {\n",
       "        text-align: right;\n",
       "    }\n",
       "</style>\n",
       "<table border=\"1\" class=\"dataframe\">\n",
       "  <thead>\n",
       "    <tr style=\"text-align: right;\">\n",
       "      <th></th>\n",
       "      <th>country</th>\n",
       "      <th>sub-region</th>\n",
       "    </tr>\n",
       "  </thead>\n",
       "  <tbody>\n",
       "    <tr>\n",
       "      <th>0</th>\n",
       "      <td>Afghanistan</td>\n",
       "      <td>Southern Asia</td>\n",
       "    </tr>\n",
       "    <tr>\n",
       "      <th>1</th>\n",
       "      <td>Åland islands</td>\n",
       "      <td>Northern Europe</td>\n",
       "    </tr>\n",
       "    <tr>\n",
       "      <th>2</th>\n",
       "      <td>Albania</td>\n",
       "      <td>Southern Europe</td>\n",
       "    </tr>\n",
       "    <tr>\n",
       "      <th>3</th>\n",
       "      <td>Algeria</td>\n",
       "      <td>Northern Africa</td>\n",
       "    </tr>\n",
       "    <tr>\n",
       "      <th>4</th>\n",
       "      <td>American samoa</td>\n",
       "      <td>Polynesia</td>\n",
       "    </tr>\n",
       "    <tr>\n",
       "      <th>...</th>\n",
       "      <td>...</td>\n",
       "      <td>...</td>\n",
       "    </tr>\n",
       "    <tr>\n",
       "      <th>244</th>\n",
       "      <td>Wallis and futuna</td>\n",
       "      <td>Polynesia</td>\n",
       "    </tr>\n",
       "    <tr>\n",
       "      <th>245</th>\n",
       "      <td>Western sahara</td>\n",
       "      <td>Northern Africa</td>\n",
       "    </tr>\n",
       "    <tr>\n",
       "      <th>246</th>\n",
       "      <td>Yemen</td>\n",
       "      <td>Western Asia</td>\n",
       "    </tr>\n",
       "    <tr>\n",
       "      <th>247</th>\n",
       "      <td>Zambia</td>\n",
       "      <td>Sub-Saharan Africa</td>\n",
       "    </tr>\n",
       "    <tr>\n",
       "      <th>248</th>\n",
       "      <td>Zimbabwe</td>\n",
       "      <td>Sub-Saharan Africa</td>\n",
       "    </tr>\n",
       "  </tbody>\n",
       "</table>\n",
       "<p>249 rows × 2 columns</p>\n",
       "</div>"
      ],
      "text/plain": [
       "               country          sub-region\n",
       "0          Afghanistan       Southern Asia\n",
       "1        Åland islands     Northern Europe\n",
       "2              Albania     Southern Europe\n",
       "3              Algeria     Northern Africa\n",
       "4       American samoa           Polynesia\n",
       "..                 ...                 ...\n",
       "244  Wallis and futuna           Polynesia\n",
       "245     Western sahara     Northern Africa\n",
       "246              Yemen        Western Asia\n",
       "247             Zambia  Sub-Saharan Africa\n",
       "248           Zimbabwe  Sub-Saharan Africa\n",
       "\n",
       "[249 rows x 2 columns]"
      ]
     },
     "execution_count": 12,
     "metadata": {},
     "output_type": "execute_result"
    }
   ],
   "source": [
    "continents_final"
   ]
  },
  {
   "cell_type": "code",
   "execution_count": 13,
   "id": "4a79b81c-0091-4eb3-9338-c5296539f439",
   "metadata": {},
   "outputs": [],
   "source": [
    "continents_final.to_csv('subregions.csv') "
   ]
  }
 ],
 "metadata": {
  "kernelspec": {
   "display_name": "Python 3 (ipykernel)",
   "language": "python",
   "name": "python3"
  },
  "language_info": {
   "codemirror_mode": {
    "name": "ipython",
    "version": 3
   },
   "file_extension": ".py",
   "mimetype": "text/x-python",
   "name": "python",
   "nbconvert_exporter": "python",
   "pygments_lexer": "ipython3",
   "version": "3.9.8"
  }
 },
 "nbformat": 4,
 "nbformat_minor": 5
}
